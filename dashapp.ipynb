{
 "cells": [
  {
   "cell_type": "code",
   "execution_count": 1,
   "id": "c4eda4d2",
   "metadata": {},
   "outputs": [
    {
     "name": "stderr",
     "output_type": "stream",
     "text": [
      "C:\\Users\\Eric\\AppData\\Local\\Temp\\ipykernel_180\\2404486966.py:12: UserWarning: \n",
      "The dash_core_components package is deprecated. Please replace\n",
      "`import dash_core_components as dcc` with `from dash import dcc`\n",
      "  import dash_core_components as dcc\n",
      "C:\\Users\\Eric\\AppData\\Local\\Temp\\ipykernel_180\\2404486966.py:13: UserWarning: \n",
      "The dash_html_components package is deprecated. Please replace\n",
      "`import dash_html_components as html` with `from dash import html`\n",
      "  import dash_html_components as html\n"
     ]
    }
   ],
   "source": [
    "import numpy as np\n",
    "import pandas as pd\n",
    "from sklearn.metrics import roc_auc_score, roc_curve, make_scorer, auc\n",
    "from sklearn.model_selection import train_test_split\n",
    "from sklearn import preprocessing\n",
    "from sklearn.metrics import accuracy_score, auc, confusion_matrix, roc_curve\n",
    "from sklearn.ensemble import GradientBoostingClassifier\n",
    "import mlflow\n",
    "import matplotlib.pyplot as plt\n",
    "import seaborn as sns\n",
    "import dash\n",
    "import dash_core_components as dcc\n",
    "import dash_html_components as html\n",
    "from dash.dependencies import Input, Output\n",
    "import dash_table_experiments as dt\n",
    "from dash import Dash, html, dash_table, dcc, callback, Output, Input, State\n",
    "import pandas as pd\n",
    "import plotly.express as px\n",
    "\n",
    "sns.set_theme(style='darkgrid', palette='dark')"
   ]
  },
  {
   "cell_type": "code",
   "execution_count": 2,
   "id": "bae7e75e",
   "metadata": {},
   "outputs": [],
   "source": [
    "model = mlflow.sklearn.load_model('final_model')\n",
    "df = pd.read_csv('data_after_featuring.csv').drop(columns = ['Unnamed: 0'])\n",
    "df2 = pd.read_csv('main_info_client.csv').drop(columns = ['Unnamed: 0'])\n"
   ]
  },
  {
   "cell_type": "code",
   "execution_count": 47,
   "id": "a5df54d2",
   "metadata": {},
   "outputs": [
    {
     "name": "stdout",
     "output_type": "stream",
     "text": [
      "Dash is running on http://127.0.0.1:8050/\n",
      "\n",
      " * Serving Flask app '__main__' (lazy loading)\n",
      " * Environment: production\n",
      "\u001b[31m   WARNING: This is a development server. Do not use it in a production deployment.\u001b[0m\n",
      "\u001b[2m   Use a production WSGI server instead.\u001b[0m\n",
      " * Debug mode: off\n"
     ]
    },
    {
     "name": "stderr",
     "output_type": "stream",
     "text": [
      " * Running on http://127.0.0.1:8050/ (Press CTRL+C to quit)\n",
      "127.0.0.1 - - [25/Jun/2023 03:05:57] \"GET / HTTP/1.1\" 200 -\n",
      "127.0.0.1 - - [25/Jun/2023 03:05:57] \"GET /_dash-layout HTTP/1.1\" 200 -\n",
      "127.0.0.1 - - [25/Jun/2023 03:05:57] \"GET /_dash-dependencies HTTP/1.1\" 200 -\n",
      "127.0.0.1 - - [25/Jun/2023 03:05:57] \"GET /_dash-component-suites/dash/dash_table/async-highlight.js HTTP/1.1\" 200 -\n",
      "127.0.0.1 - - [25/Jun/2023 03:05:57] \"GET /_dash-component-suites/dash/dash_table/async-table.js HTTP/1.1\" 200 -\n",
      "[2023-06-25 03:05:57,762] ERROR in app: Exception on /_dash-update-component [POST]\n",
      "Traceback (most recent call last):\n",
      "  File \"C:\\Users\\Eric\\anaconda3\\lib\\site-packages\\flask\\app.py\", line 2077, in wsgi_app\n",
      "    response = self.full_dispatch_request()\n",
      "  File \"C:\\Users\\Eric\\anaconda3\\lib\\site-packages\\flask\\app.py\", line 1525, in full_dispatch_request\n",
      "    rv = self.handle_user_exception(e)\n",
      "  File \"C:\\Users\\Eric\\anaconda3\\lib\\site-packages\\flask\\app.py\", line 1523, in full_dispatch_request\n",
      "    rv = self.dispatch_request()\n",
      "  File \"C:\\Users\\Eric\\anaconda3\\lib\\site-packages\\flask\\app.py\", line 1509, in dispatch_request\n",
      "    return self.ensure_sync(self.view_functions[rule.endpoint])(**req.view_args)\n",
      "  File \"C:\\Users\\Eric\\anaconda3\\lib\\site-packages\\dash\\dash.py\", line 1249, in dispatch\n",
      "    ctx.run(\n",
      "  File \"C:\\Users\\Eric\\anaconda3\\lib\\site-packages\\dash\\_callback.py\", line 465, in add_context\n",
      "    flat_output_values = flatten_grouping(output_value, output)\n",
      "  File \"C:\\Users\\Eric\\anaconda3\\lib\\site-packages\\dash\\_grouping.py\", line 35, in flatten_grouping\n",
      "    validate_grouping(grouping, schema)\n",
      "  File \"C:\\Users\\Eric\\anaconda3\\lib\\site-packages\\dash\\_grouping.py\", line 210, in validate_grouping\n",
      "    SchemaTypeValidationError.check(grouping, full_schema, path, (tuple, list))\n",
      "  File \"C:\\Users\\Eric\\anaconda3\\lib\\site-packages\\dash\\_grouping.py\", line 162, in check\n",
      "    raise SchemaTypeValidationError(value, full_schema, path, expected_type)\n",
      "dash._grouping.SchemaTypeValidationError: Schema: [<Output `output_div_1.children`>, <Output `tbl.data`>, <Output `output_div_2.children`>]\n",
      "Path: ()\n",
      "Expected type: (<class 'tuple'>, <class 'list'>)\n",
      "Received value of type <class 'NoneType'>:\n",
      "    None\n",
      "127.0.0.1 - - [25/Jun/2023 03:05:57] \"POST /_dash-update-component HTTP/1.1\" 500 -\n",
      "127.0.0.1 - - [25/Jun/2023 03:05:58] \"POST /_dash-update-component HTTP/1.1\" 200 -\n"
     ]
    }
   ],
   "source": [
    "# Afficher la prédiction d'un client via son ID\n",
    "# Afficher la description du client via son ID\n",
    "# Comparer le client avec des clients similaires\n",
    "\n",
    "\n",
    "# Initialize the app\n",
    "app = Dash(__name__)\n",
    "\n",
    "# App layout\n",
    "\n",
    "app.layout = html.Div([\n",
    "    html.Div(\"Enter client id and submit\"),\n",
    "    html.Br(),\n",
    "    \n",
    "    dcc.Input(\n",
    "        type = 'text',\n",
    "        value = 100013,\n",
    "        persistence=True,\n",
    "        id = 'textbox'),\n",
    "    html.Br(),\n",
    "    \n",
    "    html.Div([\n",
    "        html.Button(id='submit-button',                \n",
    "                children='Submit'\n",
    "    )\n",
    "    ]), \n",
    "    html.Br(),\n",
    "    html.Div(id='output_div_1'),\n",
    "    html.Br(),\n",
    "\n",
    "    \n",
    "    dash_table.DataTable(id='tbl'),\n",
    "    html.Br(),\n",
    "    html.Div(id='output_div_2')\n",
    "\n",
    "\n",
    "])\n",
    "\n",
    "@app.callback(Output('output_div_1','children'),\n",
    "              Output('tbl', 'data'),\n",
    "              Output('output_div_2', 'children'),\n",
    "              Input('textbox', 'value'),\n",
    "              Input('submit-button','n_clicks'),\n",
    "              State('submit-button','n_clicks'))\n",
    "\n",
    "def update_datatable(id_client, n_clicks,csv_file):            \n",
    "    if n_clicks:                            \n",
    "        data = df2.loc[df2['SK_ID_CURR'] == int(id_client)]\n",
    "        data = data.to_dict('records') \n",
    "        prediction = model.predict_proba(df.loc[df['SK_ID_CURR'] ==  int(id_client)].drop(columns = ['SK_ID_CURR', 'TARGET']))\n",
    "\n",
    "        return (f'infos on client n°{id_client} :', data, f'Prediction for the client as probability of giving the loan : {prediction[0][0]}')\n",
    "\n",
    "\n",
    "\n",
    "# Run the app\n",
    "if __name__ == '__main__':\n",
    "    app.run_server(debug=False)"
   ]
  },
  {
   "cell_type": "code",
   "execution_count": 85,
   "id": "0724baa1",
   "metadata": {},
   "outputs": [],
   "source": [
    "# A revoir pour faire sur df2 directement.\n",
    "from sklearn.preprocessing import StandardScaler \n",
    "\n",
    "def find_similar_clients(df2, client_id):\n",
    "    df = df2.copy()\n",
    "    df = df.dropna()\n",
    "    scaler = StandardScaler()\n",
    "    columns_to_scale = [col for col in df.drop(columns = 'SK_ID_CURR').columns if (df[col].dtype != df.NAME_CONTRACT_TYPE.dtype) ]\n",
    "    columns_scaled = scaler.fit_transform(df[columns_to_scale])\n",
    "    df[columns_to_scale] = columns_scaled\n",
    "    nbrs = NearestNeighbors(n_neighbors=10).fit(columns_scaled)\n",
    "    indices = nbrs.kneighbors(X = df.loc[scaled_df['SK_ID_CURR'] == client_id][columns_to_scale],\n",
    "                              n_neighbors = 10,\n",
    "                              return_distance=False)\n",
    "    return df2.iloc[indices[0]]"
   ]
  },
  {
   "cell_type": "code",
   "execution_count": 86,
   "id": "11a89a4c",
   "metadata": {},
   "outputs": [
    {
     "ename": "IndexError",
     "evalue": "only integers, slices (`:`), ellipsis (`...`), numpy.newaxis (`None`) and integer or boolean arrays are valid indices",
     "output_type": "error",
     "traceback": [
      "\u001b[1;31m---------------------------------------------------------------------------\u001b[0m",
      "\u001b[1;31mIndexError\u001b[0m                                Traceback (most recent call last)",
      "\u001b[1;32m~\\AppData\\Local\\Temp\\ipykernel_5184\\1612701465.py\u001b[0m in \u001b[0;36m<module>\u001b[1;34m\u001b[0m\n\u001b[1;32m----> 1\u001b[1;33m \u001b[0mfind_similar_clients\u001b[0m\u001b[1;33m(\u001b[0m\u001b[0mdf2\u001b[0m\u001b[1;33m,\u001b[0m \u001b[1;36m100002\u001b[0m\u001b[1;33m)\u001b[0m\u001b[1;33m\u001b[0m\u001b[1;33m\u001b[0m\u001b[0m\n\u001b[0m",
      "\u001b[1;32m~\\AppData\\Local\\Temp\\ipykernel_5184\\2288958923.py\u001b[0m in \u001b[0;36mfind_similar_clients\u001b[1;34m(df2, client_id)\u001b[0m\n\u001b[0;32m     10\u001b[0m     \u001b[0mdf\u001b[0m\u001b[1;33m[\u001b[0m\u001b[0mcolumns_to_scale\u001b[0m\u001b[1;33m]\u001b[0m \u001b[1;33m=\u001b[0m \u001b[0mcolumns_scaled\u001b[0m\u001b[1;33m\u001b[0m\u001b[1;33m\u001b[0m\u001b[0m\n\u001b[0;32m     11\u001b[0m     \u001b[0mnbrs\u001b[0m \u001b[1;33m=\u001b[0m \u001b[0mNearestNeighbors\u001b[0m\u001b[1;33m(\u001b[0m\u001b[0mn_neighbors\u001b[0m\u001b[1;33m=\u001b[0m\u001b[1;36m10\u001b[0m\u001b[1;33m)\u001b[0m\u001b[1;33m.\u001b[0m\u001b[0mfit\u001b[0m\u001b[1;33m(\u001b[0m\u001b[0mcolumns_scaled\u001b[0m\u001b[1;33m)\u001b[0m\u001b[1;33m\u001b[0m\u001b[1;33m\u001b[0m\u001b[0m\n\u001b[1;32m---> 12\u001b[1;33m     indices = nbrs.kneighbors(X = df.loc[scaled_df['SK_ID_CURR'] == client_id][columns_to_scale],\n\u001b[0m\u001b[0;32m     13\u001b[0m                               \u001b[0mn_neighbors\u001b[0m \u001b[1;33m=\u001b[0m \u001b[1;36m10\u001b[0m\u001b[1;33m,\u001b[0m\u001b[1;33m\u001b[0m\u001b[1;33m\u001b[0m\u001b[0m\n\u001b[0;32m     14\u001b[0m                               return_distance=False)\n",
      "\u001b[1;31mIndexError\u001b[0m: only integers, slices (`:`), ellipsis (`...`), numpy.newaxis (`None`) and integer or boolean arrays are valid indices"
     ]
    }
   ],
   "source": [
    "find_similar_clients(df2, 100002)"
   ]
  }
 ],
 "metadata": {
  "kernelspec": {
   "display_name": "Python 3 (ipykernel)",
   "language": "python",
   "name": "python3"
  },
  "language_info": {
   "codemirror_mode": {
    "name": "ipython",
    "version": 3
   },
   "file_extension": ".py",
   "mimetype": "text/x-python",
   "name": "python",
   "nbconvert_exporter": "python",
   "pygments_lexer": "ipython3",
   "version": "3.9.13"
  }
 },
 "nbformat": 4,
 "nbformat_minor": 5
}
